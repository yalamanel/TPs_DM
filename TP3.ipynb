{
 "cells": [
  {
   "cell_type": "code",
   "execution_count": 1,
   "metadata": {},
   "outputs": [],
   "source": [
    "import matplotlib.pyplot as plt\n",
    "import pandas as pd\n",
    "import math"
   ]
  },
  {
   "cell_type": "code",
   "execution_count": 2,
   "metadata": {},
   "outputs": [],
   "source": [
    "def load_dataset (file):\n",
    "    dataset = pd.read_excel(file)\n",
    "    return dataset\n",
    "\n",
    "path = \"Exo1.xlsx\"\n",
    "dataset = load_dataset(path)"
   ]
  },
  {
   "cell_type": "code",
   "execution_count": 3,
   "metadata": {},
   "outputs": [
    {
     "name": "stdout",
     "output_type": "stream",
     "text": [
      "   petal length  petal width  sepal length  sepal width        Class\n",
      "0           5.1          3.5           1.4          0.2  Iris-setosa\n",
      "1           4.9          3.0           1.4          0.2  Iris-setosa\n",
      "2           4.7          3.2           1.3          0.2  Iris-setosa\n",
      "3           4.6          3.1           1.5          0.2  Iris-setosa\n",
      "4           5.0          3.6           1.4          0.2  Iris-setosa\n",
      "Nombre de lignes du dataset : 150\n",
      "Nombre de colonnes du dataset :  5\n",
      "Noms des colonnes :  ['petal length', 'petal width', 'sepal length', 'sepal width', 'Class']\n"
     ]
    }
   ],
   "source": [
    "def visualize_data (dataset) :\n",
    "    print(dataset.head())\n",
    "    print (\"Nombre de lignes du dataset :\", dataset.shape[0])\n",
    "    print(\"Nombre de colonnes du dataset : \", dataset.shape[1])\n",
    "    print(\"Noms des colonnes : \", dataset.columns.tolist())\n",
    "\n",
    "visualize_data(dataset)"
   ]
  },
  {
   "cell_type": "code",
   "execution_count": 4,
   "metadata": {},
   "outputs": [
    {
     "data": {
      "text/plain": [
       "3.0"
      ]
     },
     "execution_count": 4,
     "metadata": {},
     "output_type": "execute_result"
    }
   ],
   "source": [
    "dataset[\"petal width\"][1]"
   ]
  },
  {
   "cell_type": "code",
   "execution_count": 5,
   "metadata": {},
   "outputs": [],
   "source": [
    "def discretisation_methode2 (dataset, attribut) :\n",
    "    N = dataset.shape[0]\n",
    "    K = round(1 + (10/3)* math.log(N,10))\n",
    "    print(K)\n",
    "    largeur = (dataset[attribut].max()-dataset[attribut].min())/K\n",
    "    \n",
    "    class_intervals = [dataset[attribut].min() + largeur * i for i in range (K) ]\n",
    "    class_intervals.append(dataset[attribut].max())\n",
    "    print(class_intervals[2])\n",
    "    print(class_intervals)\n",
    "    \n",
    "    dataset_copy = dataset.copy()\n",
    "    discreatized_data = []\n",
    "    for j in dataset[attribut] :\n",
    "        category = 0\n",
    "        for i in range (1,len(class_intervals)) :\n",
    "            if (j <= class_intervals[i]):\n",
    "                category = i-1\n",
    "                break\n",
    "        discreatized_data.append(category)\n",
    "\n",
    "\n",
    "\n",
    "        \n",
    "    return discreatized_data\n",
    "    "
   ]
  },
  {
   "cell_type": "code",
   "execution_count": 6,
   "metadata": {},
   "outputs": [
    {
     "name": "stdout",
     "output_type": "stream",
     "text": [
      "8\n",
      "2.6\n",
      "[2.0, 2.3, 2.6, 2.9000000000000004, 3.2, 3.5, 3.8000000000000003, 4.1000000000000005, 4.4]\n",
      "     petal length  petal width  sepal length  sepal width           Class  \\\n",
      "0             5.1          3.5           1.4          0.2     Iris-setosa   \n",
      "1             4.9          3.0           1.4          0.2     Iris-setosa   \n",
      "2             4.7          3.2           1.3          0.2     Iris-setosa   \n",
      "3             4.6          3.1           1.5          0.2     Iris-setosa   \n",
      "4             5.0          3.6           1.4          0.2     Iris-setosa   \n",
      "..            ...          ...           ...          ...             ...   \n",
      "145           6.7          3.0           5.2          2.3  Iris-virginica   \n",
      "146           6.3          2.5           5.0          1.9  Iris-virginica   \n",
      "147           6.5          3.0           5.2          2.0  Iris-virginica   \n",
      "148           6.2          3.4           5.4          2.3  Iris-virginica   \n",
      "149           5.9          3.0           5.1          1.8  Iris-virginica   \n",
      "\n",
      "     petal width d  \n",
      "0                4  \n",
      "1                3  \n",
      "2                3  \n",
      "3                3  \n",
      "4                5  \n",
      "..             ...  \n",
      "145              3  \n",
      "146              1  \n",
      "147              3  \n",
      "148              4  \n",
      "149              3  \n",
      "\n",
      "[150 rows x 6 columns]\n"
     ]
    }
   ],
   "source": [
    "dataset[\"petal width d\"]= discretisation_methode2(dataset, \"petal width\")\n",
    "print(dataset)"
   ]
  },
  {
   "cell_type": "code",
   "execution_count": 7,
   "metadata": {},
   "outputs": [],
   "source": [
    "interval_means = {}\n",
    "def moyD(dfn):\n",
    "    for colonne in colonnes_a_discretiser:\n",
    "        dfn.loc[:, colonne] = dfn.groupby(colonne + 'D')[colonne].transform('mean')\n",
    "    return dfn"
   ]
  },
  {
   "cell_type": "code",
   "execution_count": null,
   "metadata": {},
   "outputs": [],
   "source": [
    "def moyD\n",
    "    for interval in colonnes_a_discretiser:\n",
    "    moy = () "
   ]
  },
  {
   "cell_type": "code",
   "execution_count": null,
   "metadata": {},
   "outputs": [],
   "source": [
    "a = moyD(\"petal width\")\n",
    "a"
   ]
  },
  {
   "cell_type": "code",
   "execution_count": 37,
   "metadata": {},
   "outputs": [],
   "source": [
    "def normalize_min_max(df, column_name, new_min=0, new_max=1):\n",
    "\n",
    "    min_val = df[column_name].min()\n",
    "    max_val = df[column_name].max()\n",
    "\n",
    "    df[column_name + '_normalized'] = (df[column_name] - min_val) / (max_val - min_val) * (new_max - new_min) + new_min\n",
    "    print(df)\n",
    "    return df"
   ]
  },
  {
   "cell_type": "code",
   "execution_count": 38,
   "metadata": {},
   "outputs": [
    {
     "name": "stdout",
     "output_type": "stream",
     "text": [
      "     petal length  petal width  sepal length  sepal width           Class  \\\n",
      "0             5.1          3.5           1.4          0.2     Iris-setosa   \n",
      "1             4.9          3.0           1.4          0.2     Iris-setosa   \n",
      "2             4.7          3.2           1.3          0.2     Iris-setosa   \n",
      "3             4.6          3.1           1.5          0.2     Iris-setosa   \n",
      "4             5.0          3.6           1.4          0.2     Iris-setosa   \n",
      "..            ...          ...           ...          ...             ...   \n",
      "145           6.7          3.0           5.2          2.3  Iris-virginica   \n",
      "146           6.3          2.5           5.0          1.9  Iris-virginica   \n",
      "147           6.5          3.0           5.2          2.0  Iris-virginica   \n",
      "148           6.2          3.4           5.4          2.3  Iris-virginica   \n",
      "149           5.9          3.0           5.1          1.8  Iris-virginica   \n",
      "\n",
      "     petal width d  petal length_normalized  \n",
      "0                4                 0.222222  \n",
      "1                3                 0.166667  \n",
      "2                3                 0.111111  \n",
      "3                3                 0.083333  \n",
      "4                5                 0.194444  \n",
      "..             ...                      ...  \n",
      "145              3                 0.666667  \n",
      "146              1                 0.555556  \n",
      "147              3                 0.611111  \n",
      "148              4                 0.527778  \n",
      "149              3                 0.444444  \n",
      "\n",
      "[150 rows x 7 columns]\n"
     ]
    }
   ],
   "source": [
    "data3=normalize_min_max(dataset,\"petal length\")"
   ]
  }
 ],
 "metadata": {
  "kernelspec": {
   "display_name": "Python 3",
   "language": "python",
   "name": "python3"
  },
  "language_info": {
   "codemirror_mode": {
    "name": "ipython",
    "version": 3
   },
   "file_extension": ".py",
   "mimetype": "text/x-python",
   "name": "python",
   "nbconvert_exporter": "python",
   "pygments_lexer": "ipython3",
   "version": "3.9.1"
  }
 },
 "nbformat": 4,
 "nbformat_minor": 2
}
