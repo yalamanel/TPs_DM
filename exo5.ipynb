{
 "cells": [
  {
   "cell_type": "code",
   "execution_count": 15,
   "metadata": {},
   "outputs": [],
   "source": [
    "import math\n",
    "import numpy as np\n",
    "import pandas as pd\n",
    "from statistics import mode\n",
    "from collections import Counter"
   ]
  },
  {
   "cell_type": "code",
   "execution_count": 20,
   "metadata": {},
   "outputs": [],
   "source": [
    "def importer_dataset(nom_fichier):\n",
    "    dataset = []\n",
    "    with open(nom_fichier, 'r') as file:\n",
    "        for line in file:\n",
    "            instance = line.strip().split()\n",
    "            instance_values = [float(val) for val in instance[1:-1]]\n",
    "            instance_class = instance[-1]\n",
    "            dataset.append(instance_values + [instance_class])\n",
    "    return dataset\n",
    "def distance_manhattan(instance1, instance2):\n",
    "    return sum(abs(a - b) for a, b in zip(instance1, instance2))\n",
    "\n",
    "def distance_euclidienne(instance1, instance2):\n",
    "    return math.sqrt(sum((a - b) ** 2 for a, b in zip(instance1, instance2)))\n",
    "\n",
    "def distance_minkowski(instance1, instance2, p):\n",
    "    return sum(abs(a - b) ** p for a, b in zip(instance1, instance2)) ** (1 / p)\n",
    "\n",
    "def distance_cosine(instance1, instance2):\n",
    "    dot_product = sum(a * b for a, b in zip(instance1, instance2))\n",
    "    magnitude1 = math.sqrt(sum(a ** 2 for a in instance1))\n",
    "    magnitude2 = math.sqrt(sum(b ** 2 for b in instance2))\n",
    "    return 1 - (dot_product / (magnitude1 * magnitude2))\n",
    "\n",
    "def distance_hamming(instance1, instance2):\n",
    "    return sum(a != b for a, b in zip(instance1, instance2))\n"
   ]
  },
  {
   "cell_type": "code",
   "execution_count": 17,
   "metadata": {},
   "outputs": [],
   "source": [
    "def trier_selon_distance(dataset, instance, distance_function):\n",
    "    distances = [(data, distance_function(instance, data[:-1])) for data in dataset]\n",
    "    distances.sort(key=lambda x: x[1])\n",
    "    return distances"
   ]
  },
  {
   "cell_type": "code",
   "execution_count": 18,
   "metadata": {},
   "outputs": [],
   "source": [
    "def classe_dominante(knn_instances):\n",
    "    classes = [instance[-1] for instance, _ in knn_instances]\n",
    "    count = Counter(classes)\n",
    "    return count.most_common(1)[0][0]"
   ]
  },
  {
   "cell_type": "code",
   "execution_count": 19,
   "metadata": {},
   "outputs": [],
   "source": [
    "def k_nn(dataset, k, instance, distance_function):\n",
    "    distances = trier_selon_distance(dataset, instance, distance_function)\n",
    "    knn = distances[:k]\n",
    "    return classe_dominante(knn)"
   ]
  },
  {
   "cell_type": "code",
   "execution_count": 13,
   "metadata": {},
   "outputs": [
    {
     "name": "stdout",
     "output_type": "stream",
     "text": [
      "Classe avec K = 3: 5.1,3.5,1.4,0.2,Iris-setosa\n",
      "Classe avec K = 5: 5.1,3.5,1.4,0.2,Iris-setosa\n"
     ]
    }
   ],
   "source": [
    "dataset = importer_dataset('Dataset-Exos.txt')\n",
    "instance_a_classifier = [5.2, 3.5, 1.41, 0.25]\n",
    "\n",
    "classe_k_3 = k_nn(dataset, 3, instance_a_classifier, distance_euclidienne) \n",
    "classe_k_5 = k_nn(dataset, 5, instance_a_classifier, distance_euclidienne)\n",
    "\n",
    "print(\"Classe avec K = 3:\", classe_k_3)\n",
    "print(\"Classe avec K = 5:\", classe_k_5)\n"
   ]
  }
 ],
 "metadata": {
  "kernelspec": {
   "display_name": "Python 3",
   "language": "python",
   "name": "python3"
  },
  "language_info": {
   "codemirror_mode": {
    "name": "ipython",
    "version": 3
   },
   "file_extension": ".py",
   "mimetype": "text/x-python",
   "name": "python",
   "nbconvert_exporter": "python",
   "pygments_lexer": "ipython3",
   "version": "3.9.1"
  }
 },
 "nbformat": 4,
 "nbformat_minor": 2
}
